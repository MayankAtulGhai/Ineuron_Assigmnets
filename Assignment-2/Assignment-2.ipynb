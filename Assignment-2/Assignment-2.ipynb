{
  "cells": [
    {
      "attachments": {},
      "cell_type": "markdown",
      "metadata": {
        "id": "DAXlcWcQ9hL4"
      },
      "source": [
        "# Assignment-2"
      ]
    },
    {
      "cell_type": "markdown",
      "metadata": {
        "id": "uXeyZHWs9hL6"
      },
      "source": [
        "1.What are the two values of the Boolean data type? How do you write them?\n",
        "\n",
        "Ans - The bool datatype in Python represnts boolean value. There are only two boolean value True or False that can be represnted by this datatype. Python internally represnts True as 1 and False as 0, using capital T and F ."
      ]
    },
    {
      "cell_type": "code",
      "execution_count": null,
      "metadata": {
        "id": "kSQ-fqW99hL7",
        "outputId": "3aa4d790-6b93-45bd-bd51-1ebaa8664a2f"
      },
      "outputs": [
        {
          "name": "stdout",
          "output_type": "stream",
          "text": [
            "True\n",
            "False\n"
          ]
        }
      ],
      "source": [
        "\n",
        "#Eg:\n",
        "a=True\n",
        "b=False\n",
        "print(a)\n",
        "print(b)"
      ]
    },
    {
      "cell_type": "markdown",
      "metadata": {
        "id": "qpgxvRmy9hL9"
      },
      "source": [
        "2. What are the three different types of Boolean operators?\n",
        "\n",
        "Ans - We know that there are two types of bool literals and they are True and False. Booelan operators act upon 'bool' type literals and they provide 'bool' type output. It means the result provided by Boolean opeartors will be again either True or False.\n",
        "\n",
        "Three different types of Boolean operators are :\n",
        "\n",
        "1. and ( x and y) - Boolean and operator\n",
        "\n",
        "If both x and y are True, then it resturns True, otherwise False.\n",
        "\n",
        "2. or (x or y) - Boolean or operator \n",
        "\n",
        "If either x or y is True, then it returns True else False\n",
        "\n",
        "3. not (not x ) - Boolean not operator \n",
        "\n",
        "If x is True, it returns False else true \n",
        "\n"
      ]
    },
    {
      "attachments": {},
      "cell_type": "markdown",
      "metadata": {
        "id": "-M1U3eBw9hL9"
      },
      "source": [
        "3. Make a list of each Boolean operator's truth tables (i.e. every possible combination of Boolean values for the operator and what it evaluate ).\n",
        "\n",
        "\n",
        "Q3. Make a list of each Boolean operator's truth tables (i.e. every possible combination of Boolean\n",
        "values for the operator and what it evaluate ).\n",
        "\n",
        "Ans:- \n",
        "\n",
        "\n",
        "### Boolean and operator\n",
        "True and True is True.\n",
        "\n",
        "True and False is False.\n",
        "\n",
        "False and True is False.\n",
        "\n",
        "False and False is False.\n",
        "\n",
        "Truth Table for AND\n",
        "\n",
        "A B output\n",
        "\n",
        "0 0 0\n",
        "\n",
        "0 1 0\n",
        "\n",
        "1 0 0\n",
        "\n",
        "1 1 1\n",
        "\n",
        "#### Boolean or operator \n",
        "\n",
        "True or True is True.\n",
        "\n",
        "True or False is True.\n",
        "\n",
        "False or True is True.\n",
        "\n",
        "False or False is False.\n",
        "\n",
        "Truth Table for OR\n",
        "\n",
        "A B output\n",
        "\n",
        "0 0 0\n",
        "\n",
        "0 1 1\n",
        "\n",
        "1 0 1\n",
        "\n",
        "1 1 1\n",
        "\n",
        "\n",
        "#### Boolean not operator \n",
        "\n",
        "not True is False.\n",
        "\n",
        "not False is True.\n",
        "\n",
        "Truth Table for NOT\n",
        "\n",
        "A output\n",
        "\n",
        "0 1\n",
        "\n",
        "1 0"
      ]
    },
    {
      "cell_type": "markdown",
      "metadata": {
        "id": "GS1E_umu9hL-"
      },
      "source": [
        "4. What are the values of the following expressions?\n",
        "(5 > 4) and (3 == 5)\n",
        "not (5 > 4)\n",
        "(5 > 4) or (3 == 5)\n",
        "not ((5 > 4) or (3 == 5))\n",
        "(True and True) and (True == False)\n",
        "(not False) or (not True)"
      ]
    },
    {
      "cell_type": "code",
      "execution_count": null,
      "metadata": {
        "id": "0dpniLOJ9hL-",
        "outputId": "891d3027-37dd-4bbe-bcfa-ae8f2b86bd9e"
      },
      "outputs": [
        {
          "name": "stdout",
          "output_type": "stream",
          "text": [
            "False\n",
            "False\n",
            "True\n",
            "False\n",
            "False\n",
            "True\n"
          ]
        }
      ],
      "source": [
        "print((5>4) and (3==5))\n",
        "print(not(5>4))\n",
        "print((5>4) or (3==5))\n",
        "print(not(5>4) or (3==5))\n",
        "print((True and True) and (True==False))\n",
        "print((not(False))or(not(True)))"
      ]
    },
    {
      "attachments": {},
      "cell_type": "markdown",
      "metadata": {
        "id": "DGC4vrWD9hL-"
      },
      "source": [
        "5. What are the six comparison operators?\n",
        "\n",
        "Ans- Python has six comparison operators, which are as follows:\n",
        "\n",
        "1. Less than ( < )\n",
        "\n",
        "The Less Than operator (<) compares two values and returns True if the value on the left is less than the value on the right. Otherwise, it returns False.\n",
        "\n",
        "2. Less than or equal to (<=)\n",
        "\n",
        "The less than or equal to operator compares two values and returns True if the left value is less than or equal to the right value. Otherwise, it returns False.\n",
        "\n",
        "3. Greater than (>)\n",
        "\n",
        "The greater than operator (>) compares two values and returns True if the left value is greater than the right value. Otherwise, it returns False.\n",
        "\n",
        "4. Greater than or equal to (>=)\n",
        "\n",
        "The greater than or equal to operator (>=) compares two values and returns True if the left value is greater than or equal to the right value. Otherwise, it returns False.\n",
        "\n",
        "5. Equal to ( == )\n",
        "\n",
        "The equal to operator (==) compares two values and returns True if the left value is equal to the right value. Otherwise, it returns False.\n",
        "\n",
        "6. Not equal to ( != )\n",
        "\n",
        "The not equal to operator (!=) compares two values and returns True if the left value isn’t equal to the right value. Otherwise, it returns False."
      ]
    },
    {
      "cell_type": "markdown",
      "metadata": {
        "id": "fDrnxWuM9hL-"
      },
      "source": [
        "6. How do you tell the difference between the equal to and assignment operators?Describe a condition and when you would use one.\n",
        "\n",
        "Ans - == is the equal to operator that compares two values and evaluates to a Boolean, while = is the assignment operator that stores a value in a variable."
      ]
    },
    {
      "cell_type": "code",
      "execution_count": null,
      "metadata": {
        "id": "KfR3c4399hL_",
        "outputId": "e9d3d0fb-db68-42bb-d32d-cec69ebd3986"
      },
      "outputs": [
        {
          "name": "stdout",
          "output_type": "stream",
          "text": [
            "False\n",
            "c = 1\n"
          ]
        }
      ],
      "source": [
        "#eg.\n",
        "\n",
        "# Equal To Operator\n",
        "if(2==3):\n",
        "    print(\"True\")\n",
        "else:\n",
        "    print(\"False\")\n",
        "#Assignment operator\n",
        "c=1 #here we have used assignment operator(=) to assign value of c which is 1\n",
        "print(\"c =\",c)"
      ]
    },
    {
      "cell_type": "markdown",
      "metadata": {
        "id": "36GN9lbh9hL_"
      },
      "source": [
        "7. Identify the three blocks in this code:\n",
        "spam = 0\n",
        "if spam == 10:\n",
        "    print('eggs')\n",
        "if spam > 5:\n",
        "    print('bacon')\n",
        "else:\n",
        "    print('ham')\n",
        "    print('spam')\n",
        "    print('spam')"
      ]
    },
    {
      "cell_type": "code",
      "execution_count": null,
      "metadata": {
        "id": "iaOHYb_s9hL_",
        "outputId": "9774a07b-0078-44aa-e957-962a59fea3b4"
      },
      "outputs": [
        {
          "name": "stdout",
          "output_type": "stream",
          "text": [
            "ham\n",
            "spam\n",
            "spam\n"
          ]
        }
      ],
      "source": [
        "\n",
        "spam = 0\n",
        "if spam == 10:\n",
        "    print('eggs') #Block 1\n",
        "if spam > 5:\n",
        "    print('bacon') #Block 2\n",
        "else:\n",
        "    print('ham') #Block 3\n",
        "    print('spam')\n",
        "    print('spam')"
      ]
    },
    {
      "cell_type": "markdown",
      "metadata": {
        "id": "s1xVIVzK9hMA"
      },
      "source": [
        "8. Write code that prints Hello if 1 is stored in spam, prints Howdy if 2 is stored in spam, and prints Greetings! if anything else is stored in spam."
      ]
    },
    {
      "cell_type": "code",
      "execution_count": 1,
      "metadata": {
        "colab": {
          "base_uri": "https://localhost:8080/"
        },
        "id": "fZgU6pTM9hMA",
        "outputId": "477e90b0-2b48-48ae-d432-97a26e1dd44d"
      },
      "outputs": [
        {
          "name": "stdout",
          "output_type": "stream",
          "text": [
            "Input a no.2\n",
            "Howdy\n"
          ]
        }
      ],
      "source": [
        "spam = int(input(\"Input a no.\"))\n",
        "\n",
        "if spam == 1:\n",
        "    print(\"Hello\")\n",
        "elif spam == 2:\n",
        "    print(\"Howdy\")\n",
        "else:\n",
        "    print(\"Greetings!\")"
      ]
    },
    {
      "cell_type": "markdown",
      "metadata": {
        "id": "kVEy-bWI9hMA"
      },
      "source": [
        "9.If your programme is stuck in an endless loop, what keys you’ll press?\n",
        "\n",
        "Ans -  If program is stuck in endless loop we will press ctrl+c"
      ]
    },
    {
      "cell_type": "markdown",
      "metadata": {
        "id": "IxnF1mKp9hMA"
      },
      "source": [
        "10. How can you tell the difference between break and continue?"
      ]
    },
    {
      "cell_type": "code",
      "execution_count": null,
      "metadata": {
        "id": "H_KX9-Zj9hMB",
        "outputId": "bfecbc48-a6b8-4498-c4fa-9228c1b4114e"
      },
      "outputs": [
        {
          "name": "stdout",
          "output_type": "stream",
          "text": [
            "0\n",
            "1\n",
            "2\n",
            "3\n",
            "4\n",
            "5\n",
            "6\n",
            "Breaked\n",
            "0\n",
            "1\n",
            "2\n",
            "3\n",
            "4\n",
            "5\n",
            "6\n",
            "8\n",
            "9\n"
          ]
        }
      ],
      "source": [
        "# use of break\n",
        "for i in range(10):\n",
        "    if(i==7):\n",
        "        break\n",
        "    print(i)\n",
        "    \n",
        "print('Breaked')\n",
        "#use of  continue\n",
        "for i in range(10):\n",
        "    if(i==7):\n",
        "        continue\n",
        "    print(i)"
      ]
    },
    {
      "cell_type": "markdown",
      "metadata": {
        "id": "P8vEDVRI9hMB"
      },
      "source": [
        "11. In a for loop, what is the difference between range(10), range(0, 10), and range(0, 10, 1)?"
      ]
    },
    {
      "cell_type": "code",
      "execution_count": null,
      "metadata": {
        "id": "VSv9wnUz9hMB",
        "outputId": "bc135d99-3c53-4d11-bb51-0cdacee24f49"
      },
      "outputs": [
        {
          "name": "stdout",
          "output_type": "stream",
          "text": [
            "0\n",
            "1\n",
            "2\n",
            "3\n",
            "4\n",
            "5\n",
            "6\n",
            "7\n",
            "8\n",
            "9\n",
            "xxxxxxxxxxxxxxxxxxxxxxxxxxxxxxxxxxxxxxxxxxxxxxxxxxxxxxxxxxxxxxxxxxxxxxxxxxxxxxxxxxxxxx\n",
            "0\n",
            "1\n",
            "2\n",
            "3\n",
            "4\n",
            "5\n",
            "6\n",
            "7\n",
            "8\n",
            "9\n",
            "xxxxxxxxxxxxxxxxxxxxxxxxxxxxxxxxxxxxxxxxxxxxxxxxxxxxxxxxxxxxxxxxxxxxxxxxxxxxxxxxxxxxxx\n",
            "0\n",
            "1\n",
            "2\n",
            "3\n",
            "4\n",
            "5\n",
            "6\n",
            "7\n",
            "8\n",
            "9\n"
          ]
        }
      ],
      "source": [
        "for i in range(10):\n",
        "    print(i)\n",
        "print(\"xxxxxxxxxxxxxxxxxxxxxxxxxxxxxxxxxxxxxxxxxxxxxxxxxxxxxxxxxxxxxxxxxxxxxxxxxxxxxxxxxxxxxx\") \n",
        "for i in range(0,10):\n",
        "    print(i)\n",
        "print(\"xxxxxxxxxxxxxxxxxxxxxxxxxxxxxxxxxxxxxxxxxxxxxxxxxxxxxxxxxxxxxxxxxxxxxxxxxxxxxxxxxxxxxx\")\n",
        "for i in range(0,10,1):\n",
        "    print(i)\n"
      ]
    },
    {
      "cell_type": "markdown",
      "metadata": {
        "id": "OIdp81Tf9hMB"
      },
      "source": [
        "From the above output we can conclude that they all do the same thing. The range(10) call ranges from 0 up to (but not including) 10, range(0, 10) tells the loop to start at 0, and range(0, 10, 1) tells the loop to increase the variable by 1 on each iteration."
      ]
    },
    {
      "cell_type": "markdown",
      "metadata": {
        "id": "gjzSr4uU9hMB"
      },
      "source": [
        "12. Write a short program that prints the numbers 1 to 10 using a for loop. Then write an equivalent program that prints the numbers 1 to 10 using a while loop."
      ]
    },
    {
      "cell_type": "code",
      "execution_count": null,
      "metadata": {
        "id": "EkNwpatY9hMC",
        "outputId": "aa462150-1dd9-40a7-efba-03d9efa3a359"
      },
      "outputs": [
        {
          "name": "stdout",
          "output_type": "stream",
          "text": [
            "For Loop\n",
            "1\n",
            "2\n",
            "3\n",
            "4\n",
            "5\n",
            "6\n",
            "7\n",
            "8\n",
            "9\n",
            "10\n",
            "While Loop\n",
            "1\n",
            "2\n",
            "3\n",
            "4\n",
            "5\n",
            "6\n",
            "7\n",
            "8\n",
            "9\n",
            "10\n"
          ]
        }
      ],
      "source": [
        "#Use of For Loop\n",
        "print(\"For Loop\")\n",
        "for i in range(1,11):\n",
        "    print(i)\n",
        "    \n",
        "#Use of While Loop\n",
        "print(\"While Loop\")\n",
        "a =1\n",
        "while a <= 10:\n",
        "    print(a)\n",
        "    a+=1"
      ]
    },
    {
      "cell_type": "markdown",
      "metadata": {
        "id": "jRnc4y0f9hMC"
      },
      "source": [
        "13. If you had a function named bacon() inside a module named spam, how would you call it after importing spam?\n",
        "\n",
        "Ans - This function can be called with spam.bacon()."
      ]
    }
  ],
  "metadata": {
    "colab": {
      "provenance": []
    },
    "kernelspec": {
      "display_name": "base",
      "language": "python",
      "name": "python3"
    },
    "language_info": {
      "codemirror_mode": {
        "name": "ipython",
        "version": 3
      },
      "file_extension": ".py",
      "mimetype": "text/x-python",
      "name": "python",
      "nbconvert_exporter": "python",
      "pygments_lexer": "ipython3",
      "version": "3.9.12"
    },
    "orig_nbformat": 4,
    "vscode": {
      "interpreter": {
        "hash": "b80f1f5bbcac8583f35c366948dadaaa9a46e54ddd6b5e206f58f710795909c1"
      }
    }
  },
  "nbformat": 4,
  "nbformat_minor": 0
}
