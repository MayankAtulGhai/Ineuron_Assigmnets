{
  "cells": [
    {
      "cell_type": "markdown",
      "metadata": {
        "id": "z95fYi7MWDUT"
      },
      "source": [
        "# Assignment-4"
      ]
    },
    {
      "cell_type": "code",
      "execution_count": null,
      "metadata": {
        "id": "rOdqAXWKWDUf"
      },
      "outputs": [],
      "source": [
        "\n",
        "1. What exactly is [ ]?\n",
        "\n",
        "Ans : - [ ] is a empty list, like a =[ ]\n"
      ]
    },
    {
      "cell_type": "markdown",
      "metadata": {
        "id": "bjb1KDHaWDUj"
      },
      "source": [
        "2. In a list of values stored in a variable called spam, how would you assign the value hello' as the third value? (Assume [2, 4, 6, 8, 10] are in spam.)"
      ]
    },
    {
      "cell_type": "code",
      "execution_count": null,
      "metadata": {
        "id": "caI48YgmWDUk",
        "outputId": "27cbd806-7d5c-42bf-9e01-622ecb9fff5a"
      },
      "outputs": [
        {
          "data": {
            "text/plain": [
              "[2, 4, 'hello', 8, 10]"
            ]
          },
          "execution_count": 1,
          "metadata": {},
          "output_type": "execute_result"
        }
      ],
      "source": [
        "# solution by changing the value in index 3\n",
        "spam = [2, 4, 6, 8, 10]\n",
        "spam[2] = 'hello'\n",
        "spam\n",
        "     "
      ]
    },
    {
      "cell_type": "markdown",
      "metadata": {
        "id": "QyHWejqyWDUn"
      },
      "source": [
        "#### Lets pretend the spam includes the list ['a', 'b','c','d'] for the next three queries.\n",
        "\n",
        "3. What is the value of spam[int(int(3 * 2) / 11)]?"
      ]
    },
    {
      "cell_type": "code",
      "execution_count": null,
      "metadata": {
        "id": "W4nDlkeiWDUp",
        "outputId": "f7849c5e-0c33-4a32-a9a2-3317e1b40d8c"
      },
      "outputs": [
        {
          "data": {
            "text/plain": [
              "'d'"
            ]
          },
          "execution_count": 2,
          "metadata": {},
          "output_type": "execute_result"
        }
      ],
      "source": [
        "spam = ['a', 'b','c','d']\n",
        "spam[int(int('3' * 2) / 11)] # spam[int(33/11)] = spam[3]"
      ]
    },
    {
      "cell_type": "markdown",
      "metadata": {
        "id": "fKYHiGa8WDUq"
      },
      "source": [
        "4. What is the value of spam[-1]?"
      ]
    },
    {
      "cell_type": "code",
      "execution_count": null,
      "metadata": {
        "id": "XV3vBy4yWDUs",
        "outputId": "01b7aea2-9a0f-4cf4-bb12-43ec6fdb5a29"
      },
      "outputs": [
        {
          "data": {
            "text/plain": [
              "'d'"
            ]
          },
          "execution_count": 3,
          "metadata": {},
          "output_type": "execute_result"
        }
      ],
      "source": [
        "\n",
        "spam = ['a', 'b','c','d']\n",
        "spam[-1] # negative index # d"
      ]
    },
    {
      "cell_type": "markdown",
      "metadata": {
        "id": "kysEF765WDUt"
      },
      "source": [
        "5. What is the value of spam[:2]?"
      ]
    },
    {
      "cell_type": "code",
      "execution_count": null,
      "metadata": {
        "id": "9oeFj3flWDUv",
        "outputId": "0be9b768-c880-48ce-c600-6850146f026d"
      },
      "outputs": [
        {
          "data": {
            "text/plain": [
              "['a', 'b']"
            ]
          },
          "execution_count": 4,
          "metadata": {},
          "output_type": "execute_result"
        }
      ],
      "source": [
        "spam[:2]"
      ]
    },
    {
      "cell_type": "markdown",
      "metadata": {
        "id": "huhldwSEWDUw"
      },
      "source": [
        "##### Let's pretend bacon has the list [3.14, 'cat' 11, 'cat' True] for the next three questions.\n",
        "\n",
        "6. What is the value of bacon.index('cat')?"
      ]
    },
    {
      "cell_type": "code",
      "execution_count": null,
      "metadata": {
        "id": "kFiI3PQmWDUx",
        "outputId": "31d27229-3fa6-4680-ed98-10f8b4af49ea"
      },
      "outputs": [
        {
          "data": {
            "text/plain": [
              "1"
            ]
          },
          "execution_count": 5,
          "metadata": {},
          "output_type": "execute_result"
        }
      ],
      "source": [
        "bacon = [3.14, 'cat', 11, 'cat', True]\n",
        "bacon.index('cat') # it returns the index of first occurrence of 'cat'"
      ]
    },
    {
      "cell_type": "markdown",
      "source": [
        "7. How does bacon.append(99) change the look of the list value in bacon?"
      ],
      "metadata": {
        "id": "Fx7C3-DJWi_G"
      }
    },
    {
      "cell_type": "code",
      "execution_count": null,
      "metadata": {
        "id": "rklL8JLSWDUy",
        "outputId": "3d38be2f-6e21-4afa-a30f-e6c5d6b3a8e5"
      },
      "outputs": [
        {
          "data": {
            "text/plain": [
              "[3.14, 'cat', 11, 'cat', True, 99]"
            ]
          },
          "execution_count": 6,
          "metadata": {},
          "output_type": "execute_result"
        }
      ],
      "source": [
        "bacon = [3.14, 'cat', 11, 'cat', True]\n",
        "bacon.append(99) # append adds the item at the end of the list\n",
        "bacon"
      ]
    },
    {
      "cell_type": "markdown",
      "metadata": {
        "id": "uiIsocmeWDUz"
      },
      "source": [
        "8. How does bacon.remove('cat') change the look of the list in bacon?"
      ]
    },
    {
      "cell_type": "code",
      "execution_count": null,
      "metadata": {
        "id": "JQDbBkgGWDU0",
        "outputId": "660d372a-89c8-4f74-8788-cb84bf0ed9fd"
      },
      "outputs": [
        {
          "data": {
            "text/plain": [
              "[3.14, 11, 'cat', True]"
            ]
          },
          "execution_count": 7,
          "metadata": {},
          "output_type": "execute_result"
        }
      ],
      "source": [
        "bacon = [3.14, 'cat', 11, 'cat', True]\n",
        "bacon.remove('cat') # remove first occurrence of item\n",
        "bacon"
      ]
    },
    {
      "cell_type": "markdown",
      "metadata": {
        "id": "Mvci49cjWDU0"
      },
      "source": [
        "9. What are the list concatenation and list replication operators?\n",
        "\n",
        "( * ) is list replication operator ( + ) is list concatination operator"
      ]
    },
    {
      "cell_type": "code",
      "execution_count": null,
      "metadata": {
        "id": "MkVPpMQQWDU1",
        "outputId": "046d678b-1653-473d-ab27-694c5a3946b0"
      },
      "outputs": [
        {
          "data": {
            "text/plain": [
              "[1, 4, 2, 5]"
            ]
          },
          "execution_count": 8,
          "metadata": {},
          "output_type": "execute_result"
        }
      ],
      "source": [
        "l1 = [1,4]\n",
        "l2 = [2,5]\n",
        "# list concatination\n",
        "l1+l2"
      ]
    },
    {
      "cell_type": "code",
      "execution_count": null,
      "metadata": {
        "id": "VSLyFWE6WDU2",
        "outputId": "897bed5d-b3f1-4e8c-c2b3-fc03b4c2e475"
      },
      "outputs": [
        {
          "data": {
            "text/plain": [
              "[7, 4, 7, 4, 7, 4]"
            ]
          },
          "execution_count": 9,
          "metadata": {},
          "output_type": "execute_result"
        }
      ],
      "source": [
        "l1 = [7,4]\n",
        "\n",
        "# list replication\n",
        "l1*3"
      ]
    },
    {
      "cell_type": "markdown",
      "metadata": {
        "id": "dl0520apWDU2"
      },
      "source": [
        "10. What is difference between the list methods append() and insert()?\n",
        "\n",
        "append() Appends object to the end of the list\n",
        "\n",
        "insert() Insert object before index"
      ]
    },
    {
      "cell_type": "code",
      "execution_count": null,
      "metadata": {
        "id": "T6qmilnzWDU3",
        "outputId": "73aec95b-307b-4d8a-9f42-8f32625a369e"
      },
      "outputs": [
        {
          "data": {
            "text/plain": [
              "[3.14, 'cat', 11, 'cat', True, 99]"
            ]
          },
          "execution_count": 10,
          "metadata": {},
          "output_type": "execute_result"
        }
      ],
      "source": [
        "bacon = [3.14, 'cat', 11, 'cat', True]\n",
        "bacon.append(99) # append adds the item at the end of the list\n",
        "bacon"
      ]
    },
    {
      "cell_type": "code",
      "execution_count": null,
      "metadata": {
        "id": "8rnk66GsWDU4",
        "outputId": "2c32be80-7ac4-4453-d4bc-21e1db1f4cd8"
      },
      "outputs": [
        {
          "data": {
            "text/plain": [
              "[2, 4, 'hello', 6, 8, 10]"
            ]
          },
          "execution_count": 11,
          "metadata": {},
          "output_type": "execute_result"
        }
      ],
      "source": [
        "# solution by inserting value in 3rd index\n",
        "spam = [2, 4, 6, 8, 10]\n",
        "spam.insert(2,'hello')\n",
        "spam\n"
      ]
    },
    {
      "cell_type": "markdown",
      "metadata": {
        "id": "D9hKtGDAWDU5"
      },
      "source": [
        "11. What are the two methods for removing items from a list?\n",
        "\n",
        "remove(item) - removeds first occurence of a item\n",
        "\n",
        "pop() - Remove and returns item at index (default last)."
      ]
    },
    {
      "cell_type": "code",
      "execution_count": null,
      "metadata": {
        "id": "UVV_5pJHWDU6",
        "outputId": "c0e3f6dc-3863-4a53-a2e2-20085840f437"
      },
      "outputs": [
        {
          "data": {
            "text/plain": [
              "[3.14, 11, 'cat', True]"
            ]
          },
          "execution_count": 12,
          "metadata": {},
          "output_type": "execute_result"
        }
      ],
      "source": [
        "\n",
        "bacon = [3.14, 'cat', 11, 'cat', True]\n",
        "bacon.remove('cat')\n",
        "bacon"
      ]
    },
    {
      "cell_type": "code",
      "execution_count": null,
      "metadata": {
        "id": "b1XPbKwJWDU7",
        "outputId": "513fbdc5-af79-4775-f718-bfb1c66d5302"
      },
      "outputs": [
        {
          "data": {
            "text/plain": [
              "[3.14, 'cat', 11, 'cat']"
            ]
          },
          "execution_count": 13,
          "metadata": {},
          "output_type": "execute_result"
        }
      ],
      "source": [
        "\n",
        "bacon = [3.14, 'cat', 11, 'cat', True]\n",
        "bacon.pop()\n",
        "bacon"
      ]
    },
    {
      "cell_type": "markdown",
      "metadata": {
        "id": "zWaB6TWpWDU7"
      },
      "source": [
        "12. Describe how list values and string values are identical.\n",
        "\n",
        "Ans. Both lists and strings can be passed to len()\n",
        "    Have indexes and slices\n",
        "    Can be used in for loops\n",
        "    Can be concatenated or replicated\n",
        "    Can be used with the in and not in operators"
      ]
    },
    {
      "cell_type": "markdown",
      "metadata": {
        "id": "ZDn6HTIBWDU8"
      },
      "source": [
        "13. What's the difference between tuples and lists?\n",
        "\n",
        "Ans . Lists : are mutable - they can have values added, removed, or changed. lists use the square brackets, [ ]\n",
        "\n",
        "Tuples : are immutable; they cannot be changed at all. Tuples are written using parentheses, ( )"
      ]
    },
    {
      "cell_type": "markdown",
      "metadata": {
        "id": "qQph6uKKWDU8"
      },
      "source": [
        "14. How do you type a tuple value that only contains the integer 42?"
      ]
    },
    {
      "cell_type": "code",
      "execution_count": null,
      "metadata": {
        "id": "TLLYFqFbWDU9",
        "outputId": "7ac21a4a-ce66-4165-8c16-05953277188d"
      },
      "outputs": [
        {
          "data": {
            "text/plain": [
              "(42,)"
            ]
          },
          "execution_count": 14,
          "metadata": {},
          "output_type": "execute_result"
        }
      ],
      "source": [
        "my_tuple = (42,)\n",
        "my_tuple"
      ]
    },
    {
      "cell_type": "markdown",
      "metadata": {
        "id": "NkdC6rafWDU-"
      },
      "source": [
        "15. How do you get a list value's tuple form? How do you get a tuple value's list form?"
      ]
    },
    {
      "cell_type": "code",
      "execution_count": 1,
      "metadata": {
        "colab": {
          "base_uri": "https://localhost:8080/"
        },
        "id": "rZfKbJQvWDU_",
        "outputId": "a39f1780-5475-418f-cb31-710a9a32dbb7"
      },
      "outputs": [
        {
          "output_type": "execute_result",
          "data": {
            "text/plain": [
              "(2, 3)"
            ]
          },
          "metadata": {},
          "execution_count": 1
        }
      ],
      "source": [
        "l1 = [2,3]\n",
        "l = tuple(l1)\n",
        "l"
      ]
    },
    {
      "cell_type": "code",
      "execution_count": null,
      "metadata": {
        "id": "SlOw4SSLWDVA",
        "outputId": "1a137a25-6bdc-4f29-9b31-2edb6144c072"
      },
      "outputs": [
        {
          "data": {
            "text/plain": [
              "[3, 4]"
            ]
          },
          "execution_count": 19,
          "metadata": {},
          "output_type": "execute_result"
        }
      ],
      "source": [
        "t1 = (3,4)\n",
        "t = list(t1)\n",
        "t"
      ]
    },
    {
      "cell_type": "markdown",
      "metadata": {
        "id": "Q2lhSoQdWDVB"
      },
      "source": [
        "16. Variables that \"contain\" list values are not necessarily lists themselves. Instead, what do they contain?\n",
        "\n",
        "Ans. They contain references to list values"
      ]
    },
    {
      "cell_type": "markdown",
      "metadata": {
        "id": "055hFefUWDVB"
      },
      "source": [
        "17. How do you distinguish between copy.copy() and copy.deepcopy()?\n",
        "\n",
        "Ans . The copy.copy() function will do a shallow copy of a list,\n",
        "The copy.deepcopy() function will do a deep copy of a list. only copy.deepcopy() will duplicate any lists inside the list"
      ]
    }
  ],
  "metadata": {
    "kernelspec": {
      "display_name": "Python 3",
      "language": "python",
      "name": "python3"
    },
    "language_info": {
      "codemirror_mode": {
        "name": "ipython",
        "version": 3
      },
      "file_extension": ".py",
      "mimetype": "text/x-python",
      "name": "python",
      "nbconvert_exporter": "python",
      "pygments_lexer": "ipython3",
      "version": "3.9.10"
    },
    "orig_nbformat": 4,
    "vscode": {
      "interpreter": {
        "hash": "823613c3df6906908f389f4f96712fe076b774500c2a65fa454593e2bec67bf5"
      }
    },
    "colab": {
      "provenance": []
    }
  },
  "nbformat": 4,
  "nbformat_minor": 0
}