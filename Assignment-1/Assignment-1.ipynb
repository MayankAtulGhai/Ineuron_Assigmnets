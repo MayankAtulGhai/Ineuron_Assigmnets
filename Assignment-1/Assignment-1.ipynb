{
 "cells": [
  {
   "attachments": {},
   "cell_type": "markdown",
   "metadata": {},
   "source": [
    "## Assignment-1\n"
   ]
  },
  {
   "attachments": {},
   "cell_type": "markdown",
   "metadata": {},
   "source": [
    "1. In the below elements which of them are values or an expression? eg:- values can be integer or string and expressions will be mathematical operators.\n",
    "\n",
    "    1. *   \n",
    "    \n",
    "    2. 'hello'\n",
    "\n",
    "    3. -87.8\n",
    "\n",
    "    4. -\n",
    "\n",
    "    5. /\n",
    "\n",
    "    6. +\n",
    "\n",
    "    7. 6\n",
    "\n",
    "\n",
    "Expression\n",
    "\n",
    "Values\n",
    "\n",
    "Values\n",
    "\n",
    "Expression\n",
    "\n",
    "Expression\n",
    "\n",
    "Expression\n",
    "\n",
    "Values\n"
   ]
  },
  {
   "attachments": {},
   "cell_type": "markdown",
   "metadata": {},
   "source": [
    "2. What is the difference between string and variable?\n",
    "\n",
    "Ans - Varaible is a storage container which is used to store information, whereas String is a Data type which is a group of character, in python these strings are either enclosed in single quotes(' ') or double quotes(\" \") and is passed as the type of information that we would store in a variable.\n",
    "\n",
    "Example:-  a = 'I am a student of Ineuron'\n",
    "\n",
    " Here a is a variable and 'I am a student of Ineuron' is a string"
   ]
  },
  {
   "attachments": {},
   "cell_type": "markdown",
   "metadata": {},
   "source": [
    "3. Describe three different data types.\n",
    " \n",
    "Ans - A datatype represent the type of data stored into a variable or memory.The Datatype whicha are already avaialable in Python are called Built-in Datatype and the Datatype that are created by the programmers are called user defined Datatype. \n",
    "\n",
    "BUilt-in Datatype :\n",
    "\n",
    "1. None Type \n",
    "\n",
    "2. Numeric Type \n",
    "\n",
    "3. Sequence\n",
    "\n",
    "4. Set \n",
    "\n",
    "5. Mappings\n",
    "\n",
    "6. Boolean Type\n",
    "\n",
    "#### None Type \n",
    "\n",
    "In python, the 'None Datatype' represents and object that does not contain any value. In languages like Java , it is called 'null' object. But in Python 'None' object.In a python program, maximum of only one 'None' object is provided. One of the uses of 'None' is that it is used inside a function as a deafult value of the arguments. When calling a function, if no value is passed, then the default value will be taken as 'None'. If soem value is passed to the function, then the value is used by the Function. In Boolean expressions, it represents 'False'\n",
    "\n",
    "#### Numeric Type\n",
    "\n",
    "    * int - The int datatype represnts an integer number. An integer number is a number without any decimal point or fraction part. For example- 20, 5, -78\n",
    "\n",
    "    * float- The float datatype represnts an floating point number. An floating point number is a number that contains a decimal point. For example- 55.89\n",
    "\n",
    "    * complex- A complex number is a number that can be in the form of a+bj or a+bJ. Here, 'a' represnts the real part of the number and 'b' represnts the imaginary part of the number. The suffix 'j' or 'J' after 'b' indicates the square root of -1. The part 'a' and 'b' may conatin integer or float. For example - 3+5j\n",
    "\n",
    "#### Boolean Type\n",
    "\n",
    "The bool datatype in Python represnts boolean value. There are only two boolean value True or False that can be represnted by this datatype. Python internally represnts True as 1 and False as 0."
   ]
  },
  {
   "attachments": {},
   "cell_type": "markdown",
   "metadata": {},
   "source": [
    "4. What is an expression made up of? What do all expressions do?\n",
    "\n",
    "Ans - Expression is any word or group of words or symbols that is a value and each value is unique. It can be assigned or used as an operands and eventuallly a group of expression help us to formulate a Statement that can be used to do a certain task."
   ]
  },
  {
   "attachments": {},
   "cell_type": "markdown",
   "metadata": {},
   "source": [
    "5. This assignment statements, like spam = 10. What is the difference between an expression and a statement?\n",
    "\n",
    "Ans - Expression is any word or group of words or symbols that is a value and each value is unique. It can be assigned or used as an operands.\n",
    "\n",
    "Example - spam = 10\n",
    "Here, spam, = and 10 all have unique meaning.\n",
    "\n",
    "Whereas Statement is a group of Expressions that are designed to carry out a certain task or an action \n",
    "\n",
    "The above Example as a whole is a statement.\n"
   ]
  },
  {
   "attachments": {},
   "cell_type": "markdown",
   "metadata": {},
   "source": [
    "6. After running the following code, what does the variable bacon contain?\n",
    "\n",
    "bacon = 22\n",
    "\n",
    "bacon + 1\n",
    "\n",
    "Ans - 23"
   ]
  },
  {
   "attachments": {},
   "cell_type": "markdown",
   "metadata": {},
   "source": [
    "7. What should the values of the following two terms be?\n",
    "\n",
    "'spam' + 'spamspam'\n",
    "\n",
    "'spam' * 3\n",
    "\n",
    "Ans- In both the above cases teh answer will be 'spamspamspam'"
   ]
  },
  {
   "attachments": {},
   "cell_type": "markdown",
   "metadata": {},
   "source": [
    "8. Why is eggs a valid variable name while 100 is invalid?\n",
    "\n",
    " Variable names cannot begin with a number. It will throw and error when we assign any value to it."
   ]
  },
  {
   "attachments": {},
   "cell_type": "markdown",
   "metadata": {},
   "source": [
    "9. What three functions can be used to get the integer, floating-point number, or string version of a value?\n",
    "\n",
    "Ans - The int() , float() , and str( ) functions will evaluate to the integer, floating-point number, and string versions of the value passed to them."
   ]
  },
  {
   "cell_type": "code",
   "execution_count": 20,
   "metadata": {},
   "outputs": [
    {
     "name": "stdout",
     "output_type": "stream",
     "text": [
      "10 <class 'int'>\n",
      "10.0 <class 'float'>\n",
      "10 <class 'str'>\n"
     ]
    }
   ],
   "source": [
    "a = int(10)\n",
    "b = float(10)\n",
    "c = str(10)\n",
    "\n",
    "print(a, type(a))\n",
    "print(b, type(b))\n",
    "print(c, type(c))"
   ]
  },
  {
   "attachments": {},
   "cell_type": "markdown",
   "metadata": {},
   "source": [
    "10. Why does this expression cause an error? How can you fix it?\n",
    "\n",
    "'I have eaten' + 99 + 'burritos.'"
   ]
  },
  {
   "attachments": {},
   "cell_type": "markdown",
   "metadata": {},
   "source": [
    "And - This Causes a TypeError as we can concatenet string datatype to a string datatype but here we are concatenating a string datatype and an integer datatype\n",
    "\n",
    "To fix this you have to type cast the integer datatype into string datatype either by using str(99) or enclosing them in either single quotes (' ') or double quotes(\" \")\n",
    "\n",
    "'I have eaten' +  \" 99 \" +  'burritos.'\n",
    "\n",
    "'I have eaten' + \" \" +str(99) + \" \" + 'burritos.'\n",
    "\n",
    "these will give the desired results."
   ]
  },
  {
   "cell_type": "code",
   "execution_count": 21,
   "metadata": {},
   "outputs": [
    {
     "data": {
      "text/plain": [
       "'I have eaten 99 burritos.'"
      ]
     },
     "execution_count": 21,
     "metadata": {},
     "output_type": "execute_result"
    }
   ],
   "source": [
    "'I have eaten' +  \" 99 \" +  'burritos.'"
   ]
  },
  {
   "cell_type": "code",
   "execution_count": 22,
   "metadata": {},
   "outputs": [
    {
     "data": {
      "text/plain": [
       "'I have eaten 99 burritos.'"
      ]
     },
     "execution_count": 22,
     "metadata": {},
     "output_type": "execute_result"
    }
   ],
   "source": [
    "'I have eaten' + \" \" +str(99) + \" \" + 'burritos.'"
   ]
  }
 ],
 "metadata": {
  "kernelspec": {
   "display_name": "base",
   "language": "python",
   "name": "python3"
  },
  "language_info": {
   "codemirror_mode": {
    "name": "ipython",
    "version": 3
   },
   "file_extension": ".py",
   "mimetype": "text/x-python",
   "name": "python",
   "nbconvert_exporter": "python",
   "pygments_lexer": "ipython3",
   "version": "3.9.12"
  },
  "orig_nbformat": 4,
  "vscode": {
   "interpreter": {
    "hash": "b80f1f5bbcac8583f35c366948dadaaa9a46e54ddd6b5e206f58f710795909c1"
   }
  }
 },
 "nbformat": 4,
 "nbformat_minor": 2
}
