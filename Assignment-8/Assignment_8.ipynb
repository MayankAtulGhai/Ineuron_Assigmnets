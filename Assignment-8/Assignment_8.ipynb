{
  "cells": [
    {
      "cell_type": "markdown",
      "metadata": {
        "id": "pjz8CWbmdO1C"
      },
      "source": [
        "# Assignment 8"
      ]
    },
    {
      "cell_type": "markdown",
      "metadata": {
        "id": "DandmBQDdO1I"
      },
      "source": [
        "1. Is the Python Standard Library included with PyInputPlus?\n",
        "\n",
        "Ans. PyInputPlus is not a part of the Python Standard Library, so you must install it separately using Pip"
      ]
    },
    {
      "cell_type": "code",
      "execution_count": null,
      "metadata": {
        "colab": {
          "base_uri": "https://localhost:8080/"
        },
        "id": "pK0DD7JUdO1J",
        "outputId": "998aae8d-35fa-4134-a6c3-0a444bb4ee5a"
      },
      "outputs": [
        {
          "output_type": "stream",
          "name": "stdout",
          "text": [
            "Looking in indexes: https://pypi.org/simple, https://us-python.pkg.dev/colab-wheels/public/simple/\n",
            "Collecting pyinputplus\n",
            "  Downloading PyInputPlus-0.2.12.tar.gz (20 kB)\n",
            "  Installing build dependencies ... \u001b[?25l\u001b[?25hdone\n",
            "  Getting requirements to build wheel ... \u001b[?25l\u001b[?25hdone\n",
            "    Preparing wheel metadata ... \u001b[?25l\u001b[?25hdone\n",
            "Collecting stdiomask>=0.0.3\n",
            "  Downloading stdiomask-0.0.6.tar.gz (3.6 kB)\n",
            "  Installing build dependencies ... \u001b[?25l\u001b[?25hdone\n",
            "  Getting requirements to build wheel ... \u001b[?25l\u001b[?25hdone\n",
            "    Preparing wheel metadata ... \u001b[?25l\u001b[?25hdone\n",
            "Collecting pysimplevalidate>=0.2.7\n",
            "  Downloading PySimpleValidate-0.2.12.tar.gz (22 kB)\n",
            "  Installing build dependencies ... \u001b[?25l\u001b[?25hdone\n",
            "  Getting requirements to build wheel ... \u001b[?25l\u001b[?25hdone\n",
            "    Preparing wheel metadata ... \u001b[?25l\u001b[?25hdone\n",
            "Building wheels for collected packages: pyinputplus, pysimplevalidate, stdiomask\n",
            "  Building wheel for pyinputplus (PEP 517) ... \u001b[?25l\u001b[?25hdone\n",
            "  Created wheel for pyinputplus: filename=PyInputPlus-0.2.12-py3-none-any.whl size=11315 sha256=b6848295f8620006ec80d26f7874397e7b057930bc581213c2784ce0e141e36a\n",
            "  Stored in directory: /root/.cache/pip/wheels/b9/b4/e7/825446929f44b25d05f4df52bc4f7d211e5dec4c547126a098\n",
            "  Building wheel for pysimplevalidate (PEP 517) ... \u001b[?25l\u001b[?25hdone\n",
            "  Created wheel for pysimplevalidate: filename=PySimpleValidate-0.2.12-py3-none-any.whl size=16192 sha256=a0fd74ec0fa5ccd520647221e9ad4d8a890d5b051eb1994c62e547cf75421935\n",
            "  Stored in directory: /root/.cache/pip/wheels/bd/d4/a5/a003719238ab12962e430310093e567ab7d29bc3bfe062b14c\n",
            "  Building wheel for stdiomask (PEP 517) ... \u001b[?25l\u001b[?25hdone\n",
            "  Created wheel for stdiomask: filename=stdiomask-0.0.6-py3-none-any.whl size=3321 sha256=53d52fe7f2a318aed68d0e59abc225f93bf420d0cac1e658020416ea22ae631c\n",
            "  Stored in directory: /root/.cache/pip/wheels/c1/e9/4e/bcdfc282cffe91bb88e951ad9a05fb166ed6460bbe3c6dc02b\n",
            "Successfully built pyinputplus pysimplevalidate stdiomask\n",
            "Installing collected packages: stdiomask, pysimplevalidate, pyinputplus\n",
            "Successfully installed pyinputplus-0.2.12 pysimplevalidate-0.2.12 stdiomask-0.0.6\n"
          ]
        }
      ],
      "source": [
        "pip install pyinputplus"
      ]
    },
    {
      "cell_type": "markdown",
      "metadata": {
        "id": "YYVl7fA8dO1M"
      },
      "source": [
        "2. Why is PyInputPlus commonly imported with import pyinputplus as pypi?\n",
        "\n",
        "Ans. pypi is alias of PyInputPlus.\n",
        "The as pyip code in the import statement saves us from typing pyinputplus each time we want to call a PyInputPlus function. Instead we can use the shorter pyip name"
      ]
    },
    {
      "cell_type": "markdown",
      "metadata": {
        "id": "G_p4RIlCdO1M"
      },
      "source": [
        "3. How do you distinguish between inputInt() and inputFloat()?\n",
        "\n",
        "Ans. inputInt() : Accepts an integer value, and returns int value\n",
        "    inputFloat() : Accepts integer/floating point value and returns float value"
      ]
    },
    {
      "cell_type": "code",
      "execution_count": null,
      "metadata": {
        "colab": {
          "base_uri": "https://localhost:8080/"
        },
        "id": "np6sPbo1dO1N",
        "outputId": "bd0e67fb-7ca9-4588-b530-b2ac19f6b347"
      },
      "outputs": [
        {
          "name": "stdout",
          "output_type": "stream",
          "text": [
            "Enter an Integer... 4.5\n",
            "'4.5' is not an integer.\n",
            "Enter an Integer... ello\n",
            "'ello' is not an integer.\n",
            "Enter an Integer... 2\n"
          ]
        }
      ],
      "source": [
        "import pyinputplus as pyip\n",
        "\n",
        "inp = pyip.inputInt(prompt = \"Enter an Integer... \", \n",
        "                    default = 0, limit = 3)"
      ]
    },
    {
      "cell_type": "code",
      "source": [
        "inp = pyip.inputFloat(prompt = \"Enter an Float... \", \n",
        "                    default = 0, limit = 3)"
      ],
      "metadata": {
        "colab": {
          "base_uri": "https://localhost:8080/"
        },
        "id": "-C0EZv31fr6W",
        "outputId": "56ad34d5-7097-45f1-89df-32b24069321c"
      },
      "execution_count": null,
      "outputs": [
        {
          "name": "stdout",
          "output_type": "stream",
          "text": [
            "Enter an Float... 5.0\n"
          ]
        }
      ]
    },
    {
      "cell_type": "markdown",
      "metadata": {
        "id": "OT5Qr3JEdO1N"
      },
      "source": [
        "4. Using PyInputPlus, how do you ensure that the user enters a whole number between 0 and 99?\n",
        "\n",
        "Ans. In the inputint function we can set the min = 0 and max =99 to ensure user enters number between 0 and 99"
      ]
    },
    {
      "cell_type": "code",
      "execution_count": null,
      "metadata": {
        "colab": {
          "base_uri": "https://localhost:8080/"
        },
        "id": "_ucotQDsdO1O",
        "outputId": "aebc3158-0a05-40bd-aad1-79f05e896edf"
      },
      "outputs": [
        {
          "name": "stdout",
          "output_type": "stream",
          "text": [
            "Enter an Integer... 85\n"
          ]
        }
      ],
      "source": [
        "inp = pyip.inputInt(prompt = \"Enter an Integer... \",\n",
        "                    min = 0, max = 99 )"
      ]
    },
    {
      "cell_type": "markdown",
      "metadata": {
        "id": "eFnuSdRTdO1O"
      },
      "source": [
        "5. What is transferred to the keyword arguments allowRegexes and blockRegexes?\n",
        "\n",
        "Ans. We can also use regular expressions to specify whether an input is allowed or not. The allowRegexes and blockRegexes keyword arguments take a list of regular expression strings to determine what the PyInputPlus function will accept or reject as valid input."
      ]
    },
    {
      "cell_type": "code",
      "execution_count": null,
      "metadata": {
        "colab": {
          "base_uri": "https://localhost:8080/"
        },
        "id": "R-GNKvmjdO1P",
        "outputId": "8b769b9c-3e18-4ed2-c870-1f71cd0eadd1"
      },
      "outputs": [
        {
          "name": "stdout",
          "output_type": "stream",
          "text": [
            "X\n"
          ]
        }
      ],
      "source": [
        "response = pyip.inputNum(allowRegexes=[r'(I|V|X|L|C|D|M)+', r'zero']) # it allowes roman letters as numbers too"
      ]
    },
    {
      "cell_type": "code",
      "execution_count": null,
      "metadata": {
        "colab": {
          "base_uri": "https://localhost:8080/"
        },
        "id": "Cgg5KHX8dO1P",
        "outputId": "7795abfa-1891-4249-c7c4-e0cbaa82a6c3"
      },
      "outputs": [
        {
          "name": "stdout",
          "output_type": "stream",
          "text": [
            "2\n",
            "This response is invalid.\n",
            "4\n",
            "This response is invalid.\n",
            "7\n"
          ]
        }
      ],
      "source": [
        "\n",
        "response = pyip.inputNum(blockRegexes=[r'[02468]$'])# blocks the even numbers"
      ]
    },
    {
      "cell_type": "markdown",
      "metadata": {
        "id": "fr3zVIVOdO1Q"
      },
      "source": [
        "6. If a blank input is entered three times, what does inputStr(limit=3) do?\n",
        "\n",
        "Ans. It will throw RetryLimitException exception."
      ]
    },
    {
      "cell_type": "markdown",
      "metadata": {
        "id": "de5r-dJNdO1Q"
      },
      "source": [
        "7. If blank input is entered three times, what does inputStr(limit=3, default='hello') do?\n",
        "\n",
        "Ans. When you use limit keyword arguments and also pass a default keyword argument, the function returns the default value instead of raising an exception"
      ]
    }
  ],
  "metadata": {
    "kernelspec": {
      "display_name": "Python 3",
      "language": "python",
      "name": "python3"
    },
    "language_info": {
      "codemirror_mode": {
        "name": "ipython",
        "version": 3
      },
      "file_extension": ".py",
      "mimetype": "text/x-python",
      "name": "python",
      "nbconvert_exporter": "python",
      "pygments_lexer": "ipython3",
      "version": "3.9.10"
    },
    "orig_nbformat": 4,
    "vscode": {
      "interpreter": {
        "hash": "823613c3df6906908f389f4f96712fe076b774500c2a65fa454593e2bec67bf5"
      }
    },
    "colab": {
      "provenance": []
    }
  },
  "nbformat": 4,
  "nbformat_minor": 0
}